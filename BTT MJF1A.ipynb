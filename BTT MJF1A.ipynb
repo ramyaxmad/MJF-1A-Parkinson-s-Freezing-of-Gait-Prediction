{
 "cells": [
  {
   "cell_type": "code",
   "execution_count": 3,
   "id": "cdae6901",
   "metadata": {},
   "outputs": [
    {
     "name": "stdout",
     "output_type": "stream",
     "text": [
      "Hello MJF1A\n"
     ]
    }
   ],
   "source": [
    "print(\"Hello MJF1A\")"
   ]
  },
  {
   "cell_type": "code",
   "execution_count": 4,
   "id": "41c925cc",
   "metadata": {},
   "outputs": [
    {
     "name": "stdout",
     "output_type": "stream",
     "text": [
      "Hi guys, I made a branch - Marc\n"
     ]
    }
   ],
   "source": [
    "print(\"Hi guys, I made a branch - Marc\")"
   ]
  },
  {
   "cell_type": "code",
   "execution_count": 5,
   "id": "24e3147a",
   "metadata": {},
   "outputs": [
    {
     "name": "stdout",
     "output_type": "stream",
     "text": [
      "I created a new branch - Jeriel\n"
     ]
    }
   ],
   "source": [
    "print(\"I created a new branch - Jeriel\")"
   ]
  },
  {
   "cell_type": "code",
   "execution_count": 6,
   "id": "2a3b775a",
   "metadata": {},
   "outputs": [
    {
     "name": "stdout",
     "output_type": "stream",
     "text": [
      "Created a new branch! - Mehek\n"
     ]
    }
   ],
   "source": [
    "print(\"Created a new branch! - Mehek\")"
   ]
  }
 ],
 "metadata": {
  "kernelspec": {
   "display_name": "base",
   "language": "python",
   "name": "python3"
  },
  "language_info": {
   "codemirror_mode": {
    "name": "ipython",
    "version": 3
   },
   "file_extension": ".py",
   "mimetype": "text/x-python",
   "name": "python",
   "nbconvert_exporter": "python",
   "pygments_lexer": "ipython3",
   "version": "3.12.7"
  }
 },
 "nbformat": 4,
 "nbformat_minor": 5
}
