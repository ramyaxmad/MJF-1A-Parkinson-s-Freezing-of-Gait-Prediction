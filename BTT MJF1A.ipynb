{
 "cells": [
  {
   "cell_type": "code",
   "execution_count": 3,
   "id": "cdae6901",
   "metadata": {},
   "outputs": [
    {
     "name": "stdout",
     "output_type": "stream",
     "text": [
      "Hello MJF1A\n"
     ]
    }
   ],
   "source": [
    "print(\"Hello MJF1A\")"
   ]
  },
  {
   "cell_type": "code",
   "execution_count": 4,
   "id": "41c925cc",
   "metadata": {},
   "outputs": [
    {
     "name": "stdout",
     "output_type": "stream",
     "text": [
      "Hi guys, I made a branch - Marc\n"
     ]
    }
   ],
   "source": [
    "print(\"Hi guys, I made a branch - Marc\")"
   ]
  },
  {
   "cell_type": "code",
   "execution_count": null,
   "id": "24e3147a",
   "metadata": {},
   "outputs": [],
   "source": []
  }
 ],
 "metadata": {
  "kernelspec": {
   "display_name": "Python 3",
   "language": "python",
   "name": "python3"
  },
  "language_info": {
   "codemirror_mode": {
    "name": "ipython",
    "version": 3
   },
   "file_extension": ".py",
   "mimetype": "text/x-python",
   "name": "python",
   "nbconvert_exporter": "python",
   "pygments_lexer": "ipython3",
   "version": "3.13.2"
  }
 },
 "nbformat": 4,
 "nbformat_minor": 5
}
